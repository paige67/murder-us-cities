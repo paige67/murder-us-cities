{
 "cells": [
  {
   "cell_type": "code",
   "execution_count": 15,
   "id": "e830f2cf-a9d7-43b6-876a-a371e7c0e39b",
   "metadata": {},
   "outputs": [],
   "source": [
    "## assign values to variables\n",
    "\n",
    "chicago_murders = 762\n",
    "los_angeles_murders = 294 \n",
    "nyc_murders = 334 \n",
    "san_jose_murders = 47\n",
    "\n",
    "chicago_population = 2_705_000\n",
    "los_angeles_population = 3_976_000\n",
    "nyc_population = 8_538_000\n",
    "san_jose_population = 1_025_000"
   ]
  },
  {
   "cell_type": "code",
   "execution_count": 118,
   "id": "12def533-e6ff-406e-a1fa-854e292f84e1",
   "metadata": {},
   "outputs": [],
   "source": [
    "## calculate rate for nyc\n",
    "\n",
    "nyc_rate = (nyc_murders / nyc_population) * 100_000"
   ]
  },
  {
   "cell_type": "code",
   "execution_count": 116,
   "id": "75cd243d-62cd-4e7c-9bbf-8036b77d9407",
   "metadata": {},
   "outputs": [],
   "source": [
    "## calculate the chicago rate\n",
    "\n",
    "chicago_rate = (chicago_murders / chicago_population) * 100_000"
   ]
  },
  {
   "cell_type": "code",
   "execution_count": 114,
   "id": "5e870ce6-d80d-4c98-878d-c954c7fd7346",
   "metadata": {},
   "outputs": [],
   "source": [
    "## calculate the San Jose rate\n",
    "\n",
    "san_jose_rate = (san_jose_murders / san_jose_population) * 100_000"
   ]
  },
  {
   "cell_type": "code",
   "execution_count": 112,
   "id": "074aecbf-5257-4919-8da6-d27f232959ad",
   "metadata": {},
   "outputs": [],
   "source": [
    "## calculate the los angeles rate\n",
    "\n",
    "los_angeles_rate = (los_angeles_murders / los_angeles_population) * 100_000"
   ]
  },
  {
   "cell_type": "code",
   "execution_count": 102,
   "id": "1c3586ac-972b-4c9f-8708-1a4cd7744e5a",
   "metadata": {},
   "outputs": [],
   "source": [
    "## rounded city rates and defined them \n",
    "\n",
    "nyc_rate_rounded = round(nyc_rate, 2)\n",
    "\n",
    "los_angeles_rate_rounded = round(los_angeles_rate, 2)\n",
    "\n",
    "chicago_rate_rounded = round(chicago_rate, 2)\n",
    "\n",
    "san_jose_rate_rounded = round(san_jose_rate, 2)"
   ]
  },
  {
   "cell_type": "code",
   "execution_count": 110,
   "id": "b555d786-d248-4884-b0c9-e4a2961cd91c",
   "metadata": {},
   "outputs": [
    {
     "name": "stdout",
     "output_type": "stream",
     "text": [
      "The city that has the lowest rate of murders is New York City with a rate of 3.91 per 100,000 people. Meanwhile, Los Angeles has a murder rate of 7.39 per 100,000, San Jose has a rate of 4.59 per 100,000, and Chicago has the highest rate with 28.17 murders for every 100,000 people.\n"
     ]
    }
   ],
   "source": [
    "## write sentence using f-strings that notes which city has the lowest murder rate.\n",
    "\n",
    "print(f\"The city that has the lowest rate of murders is New York City with a rate of {nyc_rate_rounded} per 100,000 people. Meanwhile, Los Angeles has a murder rate of {los_angeles_rate_rounded} per 100,000, San Jose has a rate of {san_jose_rate_rounded} per 100,000, and Chicago has the highest rate with {chicago_rate_rounded} murders for every 100,000 people.\")"
   ]
  },
  {
   "cell_type": "code",
   "execution_count": null,
   "id": "4fb78cdc-e62f-4a3f-993e-750c43e6d5b5",
   "metadata": {},
   "outputs": [],
   "source": []
  }
 ],
 "metadata": {
  "kernelspec": {
   "display_name": "Python [conda env:base] *",
   "language": "python",
   "name": "conda-base-py"
  },
  "language_info": {
   "codemirror_mode": {
    "name": "ipython",
    "version": 3
   },
   "file_extension": ".py",
   "mimetype": "text/x-python",
   "name": "python",
   "nbconvert_exporter": "python",
   "pygments_lexer": "ipython3",
   "version": "3.12.7"
  }
 },
 "nbformat": 4,
 "nbformat_minor": 5
}
